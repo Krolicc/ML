{
 "cells": [
  {
   "cell_type": "markdown",
   "id": "ec6e7d18-6a6e-4a51-a7cd-0a1152604973",
   "metadata": {},
   "source": [
    "## Лабораторная работа №1 | Вариант 2"
   ]
  },
  {
   "cell_type": "markdown",
   "id": "277877ce-f982-4711-a6a6-2a4a90871409",
   "metadata": {},
   "source": [
    "Выполнил: Бракжин Ярослав"
   ]
  },
  {
   "cell_type": "markdown",
   "id": "4a59b536-214c-422b-9fd1-4e5054e46b45",
   "metadata": {},
   "source": [
    "# Произошла вопиющая ошибка \n",
    "\n",
    "Если вкратце, то сердце заподозрило что-то неладное. Так и оказалось. Я загрузил вторую домашку и решил проверить остальные. И когда зашел в первую (эту). То увидел пустоту. Сохранить то я сохранил, но из локалки jupyter не скинул. И просто initial ноутбук отправил. Ниже ссылка, как док-во. Не накахывайте :)"
   ]
  },
  {
   "cell_type": "markdown",
   "id": "987528d7-a3a1-42eb-b8bc-f0605f457086",
   "metadata": {},
   "source": [
    "Ссылка на скриншот для пущей достоверности.\n",
    "https://drive.google.com/drive/folders/1_QSnbtyn-mKQg8ptIrQp12zigU97wawN?usp=sharing"
   ]
  },
  {
   "cell_type": "markdown",
   "id": "031f025d-84dc-470f-b839-456a76d9636b",
   "metadata": {},
   "source": [
    "### 1. Numpy"
   ]
  },
  {
   "cell_type": "code",
   "execution_count": 2,
   "id": "8a2c6f8d-e85b-4982-ba6d-77ffdb7d53e8",
   "metadata": {},
   "outputs": [],
   "source": [
    "import numpy as np"
   ]
  },
  {
   "cell_type": "markdown",
   "id": "6ff3559d-5f3e-4540-9a31-bfb9f42a23da",
   "metadata": {},
   "source": [
    "1. Создайте матрицу размером 8х8 и заполните ее шахматным рисунком"
   ]
  },
  {
   "cell_type": "code",
   "execution_count": 15,
   "id": "752bc586-1e3f-4085-85c3-4068b781314f",
   "metadata": {},
   "outputs": [
    {
     "name": "stdout",
     "output_type": "stream",
     "text": [
      "[[0 1 0 1 0 1 0 1]\n",
      " [1 0 1 0 1 0 1 0]\n",
      " [0 1 0 1 0 1 0 1]\n",
      " [1 0 1 0 1 0 1 0]\n",
      " [0 1 0 1 0 1 0 1]\n",
      " [1 0 1 0 1 0 1 0]\n",
      " [0 1 0 1 0 1 0 1]\n",
      " [1 0 1 0 1 0 1 0]]\n"
     ]
    }
   ],
   "source": [
    "# Можно через срезы, можно через индексы, можно попробовать с помощью tile()\n",
    "chessboard = np.zeros((8, 8))\n",
    "\n",
    "chessboard[1::2, ::2] = 1\n",
    "chessboard[::2, 1::2] = 1\n",
    "\n",
    "print(chessboard.astype(int))"
   ]
  },
  {
   "cell_type": "markdown",
   "id": "0243a0f6-1905-4e2d-9572-9ba49dc003a8",
   "metadata": {},
   "source": [
    "2. Каков результат выполнения следующих выражений?\n",
    "\n",
    "```python\n",
    "np.array(0) / np.array(0)\n",
    "np.array(0) // np.array(0)\n",
    "np.array([np.nan]).astype(int).astype(float)\n",
    "```"
   ]
  },
  {
   "cell_type": "code",
   "execution_count": 16,
   "id": "ec6ae581-5adf-459c-bdc7-8b015d9529f6",
   "metadata": {},
   "outputs": [
    {
     "name": "stderr",
     "output_type": "stream",
     "text": [
      "C:\\Users\\Crowdlless\\AppData\\Local\\Temp\\ipykernel_12292\\3085791999.py:1: RuntimeWarning: invalid value encountered in divide\n",
      "  np.array(0) / np.array(0) #warning: invalid value encountered in divide\n"
     ]
    },
    {
     "data": {
      "text/plain": [
       "np.float64(nan)"
      ]
     },
     "execution_count": 16,
     "metadata": {},
     "output_type": "execute_result"
    }
   ],
   "source": [
    "np.array(0) / np.array(0) \n",
    "# warning: invalid value encountered in divide\n",
    "# result: np.float64(nan)"
   ]
  },
  {
   "cell_type": "code",
   "execution_count": 6,
   "id": "27f8f9bd-cef2-4ba0-ba93-436d3db13760",
   "metadata": {},
   "outputs": [
    {
     "name": "stderr",
     "output_type": "stream",
     "text": [
      "C:\\Users\\Crowdlless\\AppData\\Local\\Temp\\ipykernel_12292\\2018018105.py:1: RuntimeWarning: divide by zero encountered in floor_divide\n",
      "  np.array(0) // np.array(0)\n"
     ]
    },
    {
     "data": {
      "text/plain": [
       "np.int64(0)"
      ]
     },
     "execution_count": 6,
     "metadata": {},
     "output_type": "execute_result"
    }
   ],
   "source": [
    "np.array(0) // np.array(0)\n",
    "# warning: invalid value encountered in floor_divide\n",
    "# result: np.int64(0)"
   ]
  },
  {
   "cell_type": "code",
   "execution_count": 7,
   "id": "4aebf676-0e64-429d-a761-53d8fdbd9254",
   "metadata": {},
   "outputs": [
    {
     "name": "stderr",
     "output_type": "stream",
     "text": [
      "C:\\Users\\Crowdlless\\AppData\\Local\\Temp\\ipykernel_12292\\699728972.py:1: RuntimeWarning: invalid value encountered in cast\n",
      "  np.array([np.nan]).astype(int).astype(float)\n"
     ]
    },
    {
     "data": {
      "text/plain": [
       "array([-9.22337204e+18])"
      ]
     },
     "execution_count": 7,
     "metadata": {},
     "output_type": "execute_result"
    }
   ],
   "source": [
    "np.array([np.nan]).astype(int).astype(float)\n",
    "# warning: invalid value encountered in cast\n",
    "# result: array([-9.22337204e+18])"
   ]
  },
  {
   "cell_type": "markdown",
   "id": "8c7d3811-a555-4c02-ada8-e4a70b9dee46",
   "metadata": {},
   "source": [
    "3. Создайте матрицу-шахматную доску 8х8 используя функцию `tile`"
   ]
  },
  {
   "cell_type": "code",
   "execution_count": 8,
   "id": "12d0ed34-908c-4840-8b81-457e64dd7b0b",
   "metadata": {},
   "outputs": [
    {
     "name": "stdout",
     "output_type": "stream",
     "text": [
      "[[0 1 0 1 0 1 0 1]\n",
      " [1 0 1 0 1 0 1 0]\n",
      " [0 1 0 1 0 1 0 1]\n",
      " [1 0 1 0 1 0 1 0]\n",
      " [0 1 0 1 0 1 0 1]\n",
      " [1 0 1 0 1 0 1 0]\n",
      " [0 1 0 1 0 1 0 1]\n",
      " [1 0 1 0 1 0 1 0]]\n"
     ]
    }
   ],
   "source": [
    "tile = np.array([[0, 1], [1, 0]])\n",
    "\n",
    "chessboard = np.tile(tile, (4,4))\n",
    "\n",
    "print(chessboard)"
   ]
  },
  {
   "cell_type": "markdown",
   "id": "b7ca56e6-a194-4c42-b8a2-307fcf40f648",
   "metadata": {},
   "source": [
    "4. Как округлить до целых массив чисел с плавающей точкой?"
   ]
  },
  {
   "cell_type": "code",
   "execution_count": 23,
   "id": "1b1d64cd-0e28-400f-8d49-a1274947e150",
   "metadata": {},
   "outputs": [
    {
     "name": "stdout",
     "output_type": "stream",
     "text": [
      "[2. 2.]\n",
      "[2 2]\n"
     ]
    }
   ],
   "source": [
    "# с помощью astype()\n",
    "arr = np.array([2,2], dtype=float)\n",
    "print(arr)\n",
    "print(arr.astype(int))"
   ]
  },
  {
   "cell_type": "markdown",
   "id": "b3b2cd1e-e996-45e0-b9ed-e12ce653a9c3",
   "metadata": {},
   "source": [
    "5. Как найти общие значения между двумя массивами?"
   ]
  },
  {
   "cell_type": "code",
   "execution_count": 26,
   "id": "c40ef785-d750-42ba-ac6e-b777866202a6",
   "metadata": {},
   "outputs": [
    {
     "name": "stdout",
     "output_type": "stream",
     "text": [
      "[2]\n"
     ]
    }
   ],
   "source": [
    "# с помощью intersect_()\n",
    "arr1 = np.array([0,2,4])\n",
    "arr2 = np.array([5,2,1])\n",
    "\n",
    "middle_value = np.intersect1d(arr1, arr2)\n",
    "\n",
    "print(middle_value)"
   ]
  },
  {
   "cell_type": "markdown",
   "id": "8108b3a8-5ba8-472d-ad6b-095ade8678ef",
   "metadata": {},
   "source": [
    "6. Как вычислить ((A+B)*(-A/2)) на месте (без копирования)?"
   ]
  },
  {
   "cell_type": "code",
   "execution_count": 38,
   "id": "89b58c0a-bd5d-435a-be45-719fdfce662a",
   "metadata": {},
   "outputs": [
    {
     "name": "stdout",
     "output_type": "stream",
     "text": [
      "[-2. -4. -6.]\n"
     ]
    }
   ],
   "source": [
    "# ((A+B)*(-A/2))\n",
    "# Можно попробовать в 3 операции +=, /=, *=\n",
    "A = np.array([1,2,3], dtype=float)\n",
    "B = np.array([3,2,1], dtype=float)\n",
    "\n",
    "# 1. B += A\n",
    "B += A\n",
    "\n",
    "# 2. A /= (-2)\n",
    "A /= -2.\n",
    "\n",
    "# 3. A *= B\n",
    "A *= B\n",
    "\n",
    "# print(A.astype(int))\n",
    "print(A)\n"
   ]
  },
  {
   "cell_type": "markdown",
   "id": "98511652-db85-4506-a5b8-f94b05d35ce9",
   "metadata": {},
   "source": [
    "7. Рассмотрим случайный вектор с формой 100х2, представляющей координаты, и найдем расстояния от точки к точке"
   ]
  },
  {
   "cell_type": "code",
   "execution_count": 50,
   "id": "ca72cdb0-ed24-460d-81a9-220b850d62c3",
   "metadata": {},
   "outputs": [
    {
     "name": "stdout",
     "output_type": "stream",
     "text": [
      "[[10 10]]\n",
      "[[0.]]\n"
     ]
    }
   ],
   "source": [
    "# решим поставленную задачу через формулу _корень суммы квадратов_ двух векторов\n",
    "coord = np.random.randint(1, 10, (100, 2))\n",
    "\n",
    "print(coord)\n",
    "\n",
    "# broadcasting\n",
    "coord_1 = coord[np.newaxis, :, :]\n",
    "coord_2 = coord[:, np.newaxis, :]\n",
    "\n",
    "diff = coord_1 - coord_2\n",
    "sqr = diff ** 2\n",
    "sum = np.sum(sqr, axis=-1)\n",
    "sqrt = np.sqrt(sum)\n",
    "\n",
    "print(sqrt)"
   ]
  },
  {
   "cell_type": "markdown",
   "id": "1412a70a-2a1e-406e-a227-afc9a47ed659",
   "metadata": {},
   "source": [
    "8. Как конвертировать массив float(32 bit) к массиву целых чисел (integer 32 bit) in place?"
   ]
  },
  {
   "cell_type": "code",
   "execution_count": 30,
   "id": "22bb8bbf-52dd-4d3c-86c0-c4e9637b909b",
   "metadata": {},
   "outputs": [
    {
     "name": "stdout",
     "output_type": "stream",
     "text": [
      "[2. 2.]\n",
      "[2 2]\n"
     ]
    }
   ],
   "source": [
    "# 1. Чистого способа нет.\n",
    "# 2. Можно попытаться через view() и copyto(), но это не изменит dtype.\n",
    "# 3. Рекомендуемый способ astype(), несмотря на то что он делает копию, хоть и очень быстро // arr = arr.astype(int)\n",
    "\n",
    "arr = np.array([2,2], dtype=float)\n",
    "print(arr)\n",
    "arr = arr.astype(int)\n",
    "print(arr)"
   ]
  },
  {
   "cell_type": "markdown",
   "id": "f7dc66bf-f7c8-4d78-834b-451651f6839a",
   "metadata": {},
   "source": [
    "9. Создайте структурированный массив, представляющий позицию (x, y) и цвет (r, g, b)."
   ]
  },
  {
   "cell_type": "code",
   "execution_count": 55,
   "id": "0ecf5586-d30e-4256-ab93-7ff9bab0b34b",
   "metadata": {},
   "outputs": [
    {
     "name": "stdout",
     "output_type": "stream",
     "text": [
      "[([1., 3.], [ 10, 255, 123]) ([3., 1.], [123, 255,  10])]\n",
      "[[ 10 255 123]\n",
      " [123 255  10]]\n",
      "([3.0, 1.0], [123, 255,  10])\n",
      "10\n"
     ]
    }
   ],
   "source": [
    "color_point_type = np.dtype([(\"position\", float, 2), (\"color\", np.uint8, 3)])\n",
    "\n",
    "color_points = np.array([\n",
    "     ((1., 3.), (10, 255, 123)), \n",
    "     ((3., 1.), (123, 255, 10))\n",
    "    ], dtype=color_point_type)\n",
    "\n",
    "print(color_points)\n",
    "print(color_points[\"color\"]) # Все цвета\n",
    "print(color_points[1]) # Второй color point\n",
    "print(color_points[1][\"color\"][2]) # третяя компонента rgB второго color point"
   ]
  },
  {
   "cell_type": "markdown",
   "id": "a66194f1-0099-4808-8ebf-5cf10eee5071",
   "metadata": {},
   "source": [
    "10. Какой эквивалент enumerate для numpy массивов?"
   ]
  },
  {
   "cell_type": "code",
   "execution_count": 28,
   "id": "07ed452c-3f7c-40a7-a5b5-716602a5eed9",
   "metadata": {},
   "outputs": [
    {
     "name": "stdout",
     "output_type": "stream",
     "text": [
      "(0,) 10\n",
      "(1,) 2\n",
      "(2,) 30\n",
      "(3,) 4\n",
      "(4,) 50\n"
     ]
    }
   ],
   "source": [
    "# ndenumerate() - эквивалент, также есть ndindex() для получения индексов\n",
    "for idx, value in np.ndenumerate([10, 2, 30, 4, 50]):\n",
    "    print(idx, value)"
   ]
  },
  {
   "cell_type": "markdown",
   "id": "5bd0f757-bb01-4afb-b4f0-6821b5c5b2b7",
   "metadata": {},
   "source": [
    "### 2. Pandas"
   ]
  },
  {
   "cell_type": "markdown",
   "id": "bdffd013-e573-4318-8062-65ae1c5e07e8",
   "metadata": {},
   "source": [
    "Найдите ответы на вопросы или выполните действия с предложенным датасетом \n",
    "\n",
    "Данные о преступлениях, совершенных женщинами в Индии, с демографическими подробностями.\n",
    "\n",
    "Файл: `CrimesOnWomenData.csv`\n",
    "\n",
    "```\n",
    "State - название штата/региона\n",
    "Year - год записи\n",
    "Rape - случаи изнасилования\n",
    "K&A - случаи похищения \n",
    "DD - смерти из-за приданого\n",
    "AoW - нападение на женщин\n",
    "AoM - нападение на женскую скромность(modestity)\n",
    "DV - бытовое насилие\n",
    "WT - торговля женщинами\n",
    "```"
   ]
  },
  {
   "cell_type": "code",
   "execution_count": 2,
   "id": "0778ec2b-a7b2-4738-b771-bb1781986f62",
   "metadata": {},
   "outputs": [],
   "source": [
    "import pandas as pd"
   ]
  },
  {
   "cell_type": "code",
   "execution_count": 3,
   "id": "bfc45614-d44b-49bd-a55c-c410a95a808f",
   "metadata": {},
   "outputs": [],
   "source": [
    "df = pd.read_csv('CrimesOnWomenData.csv') # В tree должен быть этот файл"
   ]
  },
  {
   "cell_type": "code",
   "execution_count": 91,
   "id": "e3702015-18fa-4be8-942b-61db31874615",
   "metadata": {},
   "outputs": [
    {
     "name": "stdout",
     "output_type": "stream",
     "text": [
      "     Unnamed: 0              State  Year  Rape   K&A   DD   AoW   AoM    DV  \\\n",
      "0             0     ANDHRA PRADESH  2001   871   765  420  3544  2271  5791   \n",
      "1             1  ARUNACHAL PRADESH  2001    33    55    0    78     3    11   \n",
      "2             2              ASSAM  2001   817  1070   59   850     4  1248   \n",
      "3             3              BIHAR  2001   888   518  859   562    21  1558   \n",
      "4             4       CHHATTISGARH  2001   959   171   70  1763   161   840   \n",
      "..          ...                ...   ...   ...   ...  ...   ...   ...   ...   \n",
      "731         731         D&N Haveli  2021  1250  4083  141  2068   417  4731   \n",
      "732         732        Daman & Diu  2021   315   904   16  1851    10   501   \n",
      "733         733           Delhi UT  2021     2     1    0     5     1     9   \n",
      "734         734        Lakshadweep  2021     0     0    0     1     1     3   \n",
      "735         735         Puducherry  2021     2     0    2    31     3    12   \n",
      "\n",
      "     WT  \n",
      "0     7  \n",
      "1     0  \n",
      "2     0  \n",
      "3    83  \n",
      "4     0  \n",
      "..   ..  \n",
      "731   4  \n",
      "732   1  \n",
      "733   0  \n",
      "734   0  \n",
      "735   0  \n",
      "\n",
      "[736 rows x 10 columns]\n"
     ]
    }
   ],
   "source": [
    "print(df)"
   ]
  },
  {
   "cell_type": "markdown",
   "id": "1026e8c6-513a-41e3-b2f4-68aae18b8435",
   "metadata": {},
   "source": [
    "1. За какие года представлен набор данных?"
   ]
  },
  {
   "cell_type": "code",
   "execution_count": 72,
   "id": "e74655aa-b97c-42e5-b972-e0753ddc2331",
   "metadata": {},
   "outputs": [
    {
     "data": {
      "text/plain": [
       "0      2001\n",
       "34     2002\n",
       "68     2003\n",
       "102    2004\n",
       "136    2005\n",
       "170    2006\n",
       "204    2007\n",
       "238    2008\n",
       "272    2009\n",
       "306    2010\n",
       "340    2011\n",
       "376    2012\n",
       "412    2013\n",
       "448    2014\n",
       "484    2015\n",
       "520    2016\n",
       "556    2017\n",
       "592    2018\n",
       "628    2019\n",
       "664    2020\n",
       "700    2021\n",
       "Name: Year, dtype: int64"
      ]
     },
     "execution_count": 72,
     "metadata": {},
     "output_type": "execute_result"
    }
   ],
   "source": [
    "df['Year'].drop_duplicates()"
   ]
  },
  {
   "cell_type": "markdown",
   "id": "eee028a5-9311-4a4f-b4ac-1fb75acfb4b3",
   "metadata": {},
   "source": [
    "2. Выявите район с самым высоким количеством убийств женщин"
   ]
  },
  {
   "cell_type": "code",
   "execution_count": 4,
   "id": "ac0fb641-96d2-4e7c-88d5-636ce3b699d2",
   "metadata": {},
   "outputs": [
    {
     "data": {
      "text/html": [
       "<div>\n",
       "<style scoped>\n",
       "    .dataframe tbody tr th:only-of-type {\n",
       "        vertical-align: middle;\n",
       "    }\n",
       "\n",
       "    .dataframe tbody tr th {\n",
       "        vertical-align: top;\n",
       "    }\n",
       "\n",
       "    .dataframe thead th {\n",
       "        text-align: right;\n",
       "    }\n",
       "</style>\n",
       "<table border=\"1\" class=\"dataframe\">\n",
       "  <thead>\n",
       "    <tr style=\"text-align: right;\">\n",
       "      <th></th>\n",
       "      <th>State</th>\n",
       "      <th>DD</th>\n",
       "    </tr>\n",
       "  </thead>\n",
       "  <tbody>\n",
       "    <tr>\n",
       "      <th>582</th>\n",
       "      <td>Uttar Pradesh</td>\n",
       "      <td>2524</td>\n",
       "    </tr>\n",
       "  </tbody>\n",
       "</table>\n",
       "</div>"
      ],
      "text/plain": [
       "             State    DD\n",
       "582  Uttar Pradesh  2524"
      ]
     },
     "execution_count": 4,
     "metadata": {},
     "output_type": "execute_result"
    }
   ],
   "source": [
    "# Сл. район при условии, что за убийства считаются только DD\n",
    "df[['State', 'DD']].assign(State=df['State'].str.title()).sort_values(by='DD', ascending=False).head(1)"
   ]
  },
  {
   "cell_type": "markdown",
   "id": "cd7979ba-2fa8-4fd3-986d-26cee122da1f",
   "metadata": {},
   "source": [
    "3. Какое среднее число изнасилований женщин в индии наблюдалось в указанные года?"
   ]
  },
  {
   "cell_type": "code",
   "execution_count": 92,
   "id": "3915f77b-116c-482b-8644-2f5f11931af9",
   "metadata": {},
   "outputs": [
    {
     "data": {
      "text/plain": [
       "np.float64(727.8559782608696)"
      ]
     },
     "execution_count": 92,
     "metadata": {},
     "output_type": "execute_result"
    }
   ],
   "source": [
    "df['Rape'].mean()"
   ]
  },
  {
   "cell_type": "markdown",
   "id": "1b69ba67-61a8-4765-9795-cfab1a09e929",
   "metadata": {},
   "source": [
    "4. Выявите район с минимальным числом похищений за период 2001-2003 года"
   ]
  },
  {
   "cell_type": "code",
   "execution_count": 140,
   "id": "1228d2e9-fc56-4240-95c6-c98a8b84c016",
   "metadata": {},
   "outputs": [
    {
     "data": {
      "text/html": [
       "<div>\n",
       "<style scoped>\n",
       "    .dataframe tbody tr th:only-of-type {\n",
       "        vertical-align: middle;\n",
       "    }\n",
       "\n",
       "    .dataframe tbody tr th {\n",
       "        vertical-align: top;\n",
       "    }\n",
       "\n",
       "    .dataframe thead th {\n",
       "        text-align: right;\n",
       "    }\n",
       "</style>\n",
       "<table border=\"1\" class=\"dataframe\">\n",
       "  <thead>\n",
       "    <tr style=\"text-align: right;\">\n",
       "      <th></th>\n",
       "      <th>K&amp;A</th>\n",
       "    </tr>\n",
       "    <tr>\n",
       "      <th>State</th>\n",
       "      <th></th>\n",
       "    </tr>\n",
       "  </thead>\n",
       "  <tbody>\n",
       "    <tr>\n",
       "      <th>Lakshadweep</th>\n",
       "      <td>0</td>\n",
       "    </tr>\n",
       "  </tbody>\n",
       "</table>\n",
       "</div>"
      ],
      "text/plain": [
       "             K&A\n",
       "State           \n",
       "Lakshadweep    0"
      ]
     },
     "execution_count": 140,
     "metadata": {},
     "output_type": "execute_result"
    }
   ],
   "source": [
    "# 1. Выборка в 2001-2003. Берем сл. поля: район и число похищений\n",
    "# 2. Делаем группировку по району, суммируем число похищений\n",
    "# 3. Сортировка от меньшего к большему\n",
    "# 4. По условию выявить только один район, т.е. самый первый после сортировки (чтоб найти все регионы, то нужно через поиск минимального)\n",
    "df[df['Year'].isin([2001, 2002, 2003])][['State', 'K&A']] \\\n",
    ".assign(State=df['State'].str.title()) \\\n",
    ".groupby('State')[['K&A']].sum() \\\n",
    ".sort_values(by='K&A') \\\n",
    ".head(1)"
   ]
  },
  {
   "cell_type": "markdown",
   "id": "5acec4fd-f740-49a8-a5d8-562d358239c9",
   "metadata": {},
   "source": [
    "5. Перечислите районы в которых наблюдались наиболее частые случае домашнего насилия за период с 2005 по 2012 года"
   ]
  },
  {
   "cell_type": "code",
   "execution_count": 155,
   "id": "cac8daef-f4e8-4c8b-b7f4-d41a6adf35ed",
   "metadata": {},
   "outputs": [
    {
     "name": "stdout",
     "output_type": "stream",
     "text": [
      "                 DV\n",
      "State              \n",
      "West Bengal  111458\n",
      "                    DV\n",
      "State                 \n",
      "West Bengal     111458\n",
      "Andhra Pradesh   89643\n",
      "Rajasthan        76364\n",
      "Maharashtra      57822\n",
      "Uttar Pradesh    56997\n"
     ]
    }
   ],
   "source": [
    "domestic_violence = df[((df['Year'] > 2004) & (df['Year'] < 2013))][['State', 'DV']] \\\n",
    ".assign(State=df['State'].str.title()) \\\n",
    ".groupby('State')[['DV']].sum() \\\n",
    ".sort_values(by='DV', ascending=False)\n",
    "\n",
    "dv_max = domestic_violence['DV'].max()\n",
    "print(domestic_violence[domestic_violence['DV'] == dv_max])\n",
    "\n",
    "# Если нужны наиболее частые, то\n",
    "print(domestic_violence.head(5))"
   ]
  },
  {
   "cell_type": "markdown",
   "id": "8d6171a9-0f75-4f3e-ac54-95d03d1f70b6",
   "metadata": {},
   "source": [
    "6. Выведите названия районов в порядке не возрастания случаев торговли женщинами за 2020 год"
   ]
  },
  {
   "cell_type": "code",
   "execution_count": 139,
   "id": "c64d0892-2fb8-4304-966c-5cbb32b03c0a",
   "metadata": {},
   "outputs": [
    {
     "data": {
      "text/html": [
       "<div>\n",
       "<style scoped>\n",
       "    .dataframe tbody tr th:only-of-type {\n",
       "        vertical-align: middle;\n",
       "    }\n",
       "\n",
       "    .dataframe tbody tr th {\n",
       "        vertical-align: top;\n",
       "    }\n",
       "\n",
       "    .dataframe thead th {\n",
       "        text-align: right;\n",
       "    }\n",
       "</style>\n",
       "<table border=\"1\" class=\"dataframe\">\n",
       "  <thead>\n",
       "    <tr style=\"text-align: right;\">\n",
       "      <th></th>\n",
       "      <th>WT</th>\n",
       "    </tr>\n",
       "    <tr>\n",
       "      <th>State</th>\n",
       "      <th></th>\n",
       "    </tr>\n",
       "  </thead>\n",
       "  <tbody>\n",
       "    <tr>\n",
       "      <th>Sikkim</th>\n",
       "      <td>231</td>\n",
       "    </tr>\n",
       "    <tr>\n",
       "      <th>Jharkhand</th>\n",
       "      <td>159</td>\n",
       "    </tr>\n",
       "    <tr>\n",
       "      <th>Madhya Pradesh</th>\n",
       "      <td>85</td>\n",
       "    </tr>\n",
       "    <tr>\n",
       "      <th>Punjab</th>\n",
       "      <td>67</td>\n",
       "    </tr>\n",
       "    <tr>\n",
       "      <th>Uttarakhand</th>\n",
       "      <td>52</td>\n",
       "    </tr>\n",
       "    <tr>\n",
       "      <th>Andhra Pradesh</th>\n",
       "      <td>48</td>\n",
       "    </tr>\n",
       "    <tr>\n",
       "      <th>Gujarat</th>\n",
       "      <td>47</td>\n",
       "    </tr>\n",
       "    <tr>\n",
       "      <th>Bihar</th>\n",
       "      <td>30</td>\n",
       "    </tr>\n",
       "    <tr>\n",
       "      <th>Haryana</th>\n",
       "      <td>28</td>\n",
       "    </tr>\n",
       "    <tr>\n",
       "      <th>Tripura</th>\n",
       "      <td>25</td>\n",
       "    </tr>\n",
       "    <tr>\n",
       "      <th>Nagaland</th>\n",
       "      <td>19</td>\n",
       "    </tr>\n",
       "    <tr>\n",
       "      <th>Assam</th>\n",
       "      <td>18</td>\n",
       "    </tr>\n",
       "    <tr>\n",
       "      <th>Kerala</th>\n",
       "      <td>14</td>\n",
       "    </tr>\n",
       "    <tr>\n",
       "      <th>Tamil Nadu</th>\n",
       "      <td>13</td>\n",
       "    </tr>\n",
       "    <tr>\n",
       "      <th>Odisha</th>\n",
       "      <td>11</td>\n",
       "    </tr>\n",
       "    <tr>\n",
       "      <th>Uttar Pradesh</th>\n",
       "      <td>8</td>\n",
       "    </tr>\n",
       "    <tr>\n",
       "      <th>Karnataka</th>\n",
       "      <td>5</td>\n",
       "    </tr>\n",
       "    <tr>\n",
       "      <th>D&amp;N Haveli</th>\n",
       "      <td>3</td>\n",
       "    </tr>\n",
       "    <tr>\n",
       "      <th>Chhattisgarh</th>\n",
       "      <td>3</td>\n",
       "    </tr>\n",
       "    <tr>\n",
       "      <th>Jammu &amp; Kashmir</th>\n",
       "      <td>2</td>\n",
       "    </tr>\n",
       "    <tr>\n",
       "      <th>Arunachal Pradesh</th>\n",
       "      <td>0</td>\n",
       "    </tr>\n",
       "    <tr>\n",
       "      <th>A &amp; N Islands</th>\n",
       "      <td>0</td>\n",
       "    </tr>\n",
       "    <tr>\n",
       "      <th>Lakshadweep</th>\n",
       "      <td>0</td>\n",
       "    </tr>\n",
       "    <tr>\n",
       "      <th>Himachal Pradesh</th>\n",
       "      <td>0</td>\n",
       "    </tr>\n",
       "    <tr>\n",
       "      <th>Chandigarh</th>\n",
       "      <td>0</td>\n",
       "    </tr>\n",
       "    <tr>\n",
       "      <th>Daman &amp; Diu</th>\n",
       "      <td>0</td>\n",
       "    </tr>\n",
       "    <tr>\n",
       "      <th>Delhi Ut</th>\n",
       "      <td>0</td>\n",
       "    </tr>\n",
       "    <tr>\n",
       "      <th>Goa</th>\n",
       "      <td>0</td>\n",
       "    </tr>\n",
       "    <tr>\n",
       "      <th>Puducherry</th>\n",
       "      <td>0</td>\n",
       "    </tr>\n",
       "    <tr>\n",
       "      <th>Manipur</th>\n",
       "      <td>0</td>\n",
       "    </tr>\n",
       "    <tr>\n",
       "      <th>Meghalaya</th>\n",
       "      <td>0</td>\n",
       "    </tr>\n",
       "    <tr>\n",
       "      <th>Mizoram</th>\n",
       "      <td>0</td>\n",
       "    </tr>\n",
       "    <tr>\n",
       "      <th>Maharashtra</th>\n",
       "      <td>0</td>\n",
       "    </tr>\n",
       "    <tr>\n",
       "      <th>Rajasthan</th>\n",
       "      <td>0</td>\n",
       "    </tr>\n",
       "    <tr>\n",
       "      <th>Telangana</th>\n",
       "      <td>0</td>\n",
       "    </tr>\n",
       "    <tr>\n",
       "      <th>West Bengal</th>\n",
       "      <td>0</td>\n",
       "    </tr>\n",
       "  </tbody>\n",
       "</table>\n",
       "</div>"
      ],
      "text/plain": [
       "                    WT\n",
       "State                 \n",
       "Sikkim             231\n",
       "Jharkhand          159\n",
       "Madhya Pradesh      85\n",
       "Punjab              67\n",
       "Uttarakhand         52\n",
       "Andhra Pradesh      48\n",
       "Gujarat             47\n",
       "Bihar               30\n",
       "Haryana             28\n",
       "Tripura             25\n",
       "Nagaland            19\n",
       "Assam               18\n",
       "Kerala              14\n",
       "Tamil Nadu          13\n",
       "Odisha              11\n",
       "Uttar Pradesh        8\n",
       "Karnataka            5\n",
       "D&N Haveli           3\n",
       "Chhattisgarh         3\n",
       "Jammu & Kashmir      2\n",
       "Arunachal Pradesh    0\n",
       "A & N Islands        0\n",
       "Lakshadweep          0\n",
       "Himachal Pradesh     0\n",
       "Chandigarh           0\n",
       "Daman & Diu          0\n",
       "Delhi Ut             0\n",
       "Goa                  0\n",
       "Puducherry           0\n",
       "Manipur              0\n",
       "Meghalaya            0\n",
       "Mizoram              0\n",
       "Maharashtra          0\n",
       "Rajasthan            0\n",
       "Telangana            0\n",
       "West Bengal          0"
      ]
     },
     "execution_count": 139,
     "metadata": {},
     "output_type": "execute_result"
    }
   ],
   "source": [
    "df[df['Year'] == 2020][['State', 'WT']] \\\n",
    ".assign(State=df['State'].str.title()) \\\n",
    ".groupby('State')[['WT']].sum() \\\n",
    ".sort_values(by='WT', ascending=False)"
   ]
  },
  {
   "cell_type": "markdown",
   "id": "a24c2f59-eeaf-47fd-8224-1023d1a8edeb",
   "metadata": {},
   "source": [
    "Перейдем к следующему набору данных.\n",
    "\n",
    "Файл: `CustomerPurchasingBehaviors.csv`\n",
    "\n",
    "Этот набор данных содержит информацию о профилях клиентов и их покупательском поведении. Данные содержат столбцы, содержащие идентификатор пользователя, возраст, годовой доход, сумму покупки, показатель лояльности (в разбивке по классам), регион и частоту покупок. Он предназначен для анализа тенденций сегментации клиентов и лояльности и может быть использован для различных задач машинного обучения и анализа данных, связанных с поведением клиентов и исследованиями рынка.\n",
    "\n",
    "```\n",
    "user_id - ID клиента\n",
    "age - Возраст\n",
    "annual_income - Годовой доход клиента (в долларах США).\n",
    "purchase_amount - Общая сумма покупок, совершенных клиентом (в долларах США).\n",
    "loyalty_score - Показатель лояльности клиента (значение от 0 до 100).\n",
    "region - Регион, в котором проживает клиент (Север, Юг, Восток, Запад).\n",
    "purchase_frequency - Частота покупок клиентов (количество раз в год).\n",
    "```"
   ]
  },
  {
   "cell_type": "code",
   "execution_count": 7,
   "id": "7407fc92-f656-44b4-bc3a-b86d0a8664ea",
   "metadata": {},
   "outputs": [],
   "source": [
    "df = pd.read_csv('CustomerPurchasingBehaviors.csv')"
   ]
  },
  {
   "cell_type": "code",
   "execution_count": 8,
   "id": "ba257c7a-141c-4123-9534-f17b31936367",
   "metadata": {},
   "outputs": [
    {
     "name": "stdout",
     "output_type": "stream",
     "text": [
      "     user_id  age  annual_income  purchase_amount  loyalty_score region  \\\n",
      "0          1   25          45000              200            4.5  North   \n",
      "1          2   34          55000              350            7.0  South   \n",
      "2          3   45          65000              500            8.0   West   \n",
      "3          4   22          30000              150            3.0   East   \n",
      "4          5   29          47000              220            4.8  North   \n",
      "..       ...  ...            ...              ...            ...    ...   \n",
      "233      234   40          60000              450            7.2   West   \n",
      "234      235   38          59000              430            6.9  North   \n",
      "235      236   54          74000              630            9.4  South   \n",
      "236      237   32          52000              360            5.8   West   \n",
      "237      238   31          51000              340            5.6  North   \n",
      "\n",
      "     purchase_frequency  \n",
      "0                    12  \n",
      "1                    18  \n",
      "2                    22  \n",
      "3                    10  \n",
      "4                    13  \n",
      "..                  ...  \n",
      "233                  20  \n",
      "234                  20  \n",
      "235                  27  \n",
      "236                  18  \n",
      "237                  17  \n",
      "\n",
      "[238 rows x 7 columns]\n"
     ]
    }
   ],
   "source": [
    "print(df)"
   ]
  },
  {
   "cell_type": "markdown",
   "id": "1d447d6e-cfde-411c-9078-cd8f41f02d8b",
   "metadata": {},
   "source": [
    "8. Какой средний годовой доход у клиентов с уровнем лояльности больше 50 живущих на севере"
   ]
  },
  {
   "cell_type": "code",
   "execution_count": 11,
   "id": "b30df6b1-5eca-43da-a115-1c1a3cbfd899",
   "metadata": {},
   "outputs": [
    {
     "data": {
      "text/plain": [
       "np.float64(60146.34146341463)"
      ]
     },
     "execution_count": 11,
     "metadata": {},
     "output_type": "execute_result"
    }
   ],
   "source": [
    "df[((df['region'] == 'North') & (df['loyalty_score'] > 5))]['annual_income'].mean()"
   ]
  },
  {
   "cell_type": "markdown",
   "id": "c41d5d99-65f7-4d17-82ae-971ec959f327",
   "metadata": {},
   "source": [
    "9. Выведите 25 и 75 перцентили уровня лоальности клиентов живущих на западе с частотой покупок более 20 раз в год"
   ]
  },
  {
   "cell_type": "code",
   "execution_count": 13,
   "id": "275bcc04-659b-4521-a9e5-200a5f4ef674",
   "metadata": {},
   "outputs": [
    {
     "data": {
      "text/plain": [
       "0.25    8.5\n",
       "0.75    9.2\n",
       "Name: loyalty_score, dtype: float64"
      ]
     },
     "execution_count": 13,
     "metadata": {},
     "output_type": "execute_result"
    }
   ],
   "source": [
    "df[((df['region'] == 'West') & (df['purchase_frequency'] > 20))]['loyalty_score'].quantile([0.25, 0.75])"
   ]
  },
  {
   "cell_type": "markdown",
   "id": "a1f7a5c0-259c-4837-a5d1-2dfc05e7c13e",
   "metadata": {},
   "source": [
    "10. Отличается ли медианный возраст клиентов с уровнем лояльности более 70 и менее 10 для жителей Востока и Севера."
   ]
  },
  {
   "cell_type": "code",
   "execution_count": 41,
   "id": "66ffa77a-6b05-4b2d-a89c-1ab572e97f62",
   "metadata": {},
   "outputs": [],
   "source": [
    "# Задача поставлена не корректно. Во-первых, не совсем понятно, что конкретно разделяет выборку: уровень лояльности (1) или место проживания (2). \n",
    "# Если это все-таки выборка, то мин. уровень лояльности состовляет 3.0, что как я понимаю равно 30. Если я где-то не прав, прошу поправить. \n",
    "# Ниже приведены оба случая. Случай (1) закомментирован из-за того, что медианное значение не получется посчитать NaN.\n",
    "# P.S. Это ни в коем случае не придирка, просто хочу исправить возможную неточность, как мне показалось."
   ]
  },
  {
   "cell_type": "code",
   "execution_count": null,
   "id": "b5ad4a7d-5e84-405e-b232-4f133ee439b8",
   "metadata": {},
   "outputs": [],
   "source": [
    "# high_ls_median_age = df[((df['region'].isin(['East', 'North'])) & (df['loyalty_score'] > 7))]['age'].median() # ls mean loyalty score\n",
    "# low_ls_median_age = df[((df['region'].isin(['East', 'North'])) & (df['loyalty_score'] < 1))]['age'].median()\n",
    "\n",
    "# print(f'Медианный возраст клиентов с уровнем лояльности более 70 и менее 10 для жителей Востока и Севера{\"\" if high_ls_median_age != low_ls_median_age else \" НЕ\"} ОТЛИЧАЕТСЯ')\n",
    "# print(f'Для низкой лояльности: {low_ls_median_age} и для высокой: {high_ls_median_age}')"
   ]
  },
  {
   "cell_type": "code",
   "execution_count": null,
   "id": "2e9db065-362c-474f-afcd-b78cfd2a0a2a",
   "metadata": {},
   "outputs": [],
   "source": [
    "east_median_age = df[((df['region'] == 'East') & ((df['loyalty_score'] > 7) | (df['loyalty_score'] < 1)))]['age'].median() # ls mean loyalty score\n",
    "north_median_age = df[((df['region'] == 'North') & ((df['loyalty_score'] > 7) | (df['loyalty_score'] < 1)))]['age'].median()\n",
    "\n",
    "print(f'Медианный возраст клиентов с уровнем лояльности более 70 и менее 10 для жителей Востока и Севера{\"\" if east_median_age != north_median_age else \" НЕ\"} ОТЛИЧАЕТСЯ')\n",
    "print(f'Для клиентов проживающих на Востоке: {east_median_age} и на Севере: {north_median_age}')"
   ]
  },
  {
   "cell_type": "code",
   "execution_count": 40,
   "id": "a2da4d57-edb4-4179-8bee-3deda6cd00e6",
   "metadata": {},
   "outputs": [
    {
     "name": "stdout",
     "output_type": "stream",
     "text": [
      "Медианный возраст клиентов с уровнем лояльности более 70 и менее 10 для жителей Востока и Севера ОТЛИЧАЕТСЯ\n",
      "Для клиентов проживающих на Востоке: 40.0 и на Севере: 46.0\n"
     ]
    }
   ],
   "source": [
    "# Для проверки значений макс./мин. уровня лояльности\n",
    "# df['loyalty_score'].max()\n",
    "# df['loyalty_score'].min()"
   ]
  },
  {
   "cell_type": "markdown",
   "id": "deb4ca3a-3d8a-4205-bee9-d26fd28638b2",
   "metadata": {},
   "source": [
    "### 3. Визуализация"
   ]
  },
  {
   "cell_type": "markdown",
   "id": "f8941ce1-cbf2-465a-b013-1b84aeb999ef",
   "metadata": {},
   "source": [
    "Используя библиотеки matplotlib/sns/plotly/pandas и набор данных представленный ранее визуализируйте"
   ]
  },
  {
   "cell_type": "code",
   "execution_count": 6,
   "id": "2032b7d6-e3bc-4d28-92de-2efee7f419d6",
   "metadata": {},
   "outputs": [],
   "source": [
    "import matplotlib.pyplot as plt"
   ]
  },
  {
   "cell_type": "markdown",
   "id": "5e98ce6f-8d02-4120-ad85-241494c038d6",
   "metadata": {},
   "source": [
    "1. Постройте диаграмму которая отражает средний уровень лояльности во всех регионах"
   ]
  },
  {
   "cell_type": "code",
   "execution_count": 46,
   "id": "664666b2-17b7-49dd-a3bd-c4be9361755d",
   "metadata": {},
   "outputs": [
    {
     "data": {
      "image/png": "[encoded data removed]",
      "text/plain": [
       "<Figure size 800x600 with 1 Axes>"
      ]
     },
     "metadata": {},
     "output_type": "display_data"
    }
   ],
   "source": [
    "plt.figure(figsize=(8, 6))\n",
    "avg_loyalty_by_region = df.groupby('region')['loyalty_score'].mean()\n",
    "avg_loyalty_by_region.plot(kind='bar', color='red')\n",
    "plt.title('Средний уровень лояльности по регионам')\n",
    "plt.xlabel('Регион')\n",
    "plt.ylabel('Средний уровень лояльности')\n",
    "plt.xticks(rotation=45)\n",
    "plt.show()"
   ]
  },
  {
   "cell_type": "markdown",
   "id": "4c7500bb-36ca-4ea7-bc3c-4f15afbd4c41",
   "metadata": {},
   "source": [
    "2. Постройте гистограмму распределения зарплат клиентов на Севере."
   ]
  },
  {
   "cell_type": "code",
   "execution_count": 49,
   "id": "7325e7f8-5f00-4a82-8184-7064505f7ccd",
   "metadata": {},
   "outputs": [
    {
     "data": {
      "image/png": "[encoded data removed]",
      "text/plain": [
       "<Figure size 800x600 with 1 Axes>"
      ]
     },
     "metadata": {},
     "output_type": "display_data"
    }
   ],
   "source": [
    "plt.figure(figsize=(8, 6))\n",
    "north_customers = df[df['region'] == 'North']\n",
    "plt.hist(north_customers['annual_income'], bins=20, color='red', edgecolor='green')\n",
    "plt.title('Распределения зарплат клиентов на Севере')\n",
    "plt.xlabel('Годовой доход (USD)')\n",
    "plt.ylabel('Кол-во клиентов')\n",
    "plt.show()"
   ]
  },
  {
   "cell_type": "markdown",
   "id": "efdd0669-36e0-4708-ac6b-ad0d92881113",
   "metadata": {},
   "source": [
    "3. Сравните уровни зарплат людей на севере и юге."
   ]
  },
  {
   "cell_type": "code",
   "execution_count": 50,
   "id": "8517afd0-0b11-42ca-9651-45334edd2bad",
   "metadata": {},
   "outputs": [],
   "source": [
    "import seaborn as sns"
   ]
  },
  {
   "cell_type": "code",
   "execution_count": 78,
   "id": "7504a170-04a1-4b86-924d-8d46be16fd3c",
   "metadata": {},
   "outputs": [
    {
     "data": {
      "image/png": "[encoded data removed]",
      "text/plain": [
       "<Figure size 800x600 with 1 Axes>"
      ]
     },
     "metadata": {},
     "output_type": "display_data"
    }
   ],
   "source": [
    "plt.figure(figsize=(8, 6))\n",
    "sns.boxplot(x='region', y='annual_income', data=df[df['region'].isin(['North', 'South'])])\n",
    "plt.title('Сравнение уровней зарплат людей: север и юг')\n",
    "plt.show()"
   ]
  },
  {
   "cell_type": "markdown",
   "id": "b5839a48-e992-45fc-81ee-59cb5aa79dda",
   "metadata": {},
   "source": [
    "4. Постройте box plot отображающий распределение уровня лояльности для людей до 20 лет, от 20 до 40, от 40 до 60 и старше 60 лет"
   ]
  },
  {
   "cell_type": "code",
   "execution_count": 11,
   "id": "1a942378-45ea-47a0-bac9-488960491613",
   "metadata": {},
   "outputs": [
    {
     "data": {
      "text/plain": [
       "np.int64(22)"
      ]
     },
     "execution_count": 11,
     "metadata": {},
     "output_type": "execute_result"
    }
   ],
   "source": [
    "max_age = df['age'].max()\n",
    "max_age = max_age if max_age > 60 else 61\n",
    "\n",
    "age_bins = [0, 20, 40, 60, max_age]\n",
    "age_labels = ['<20', '20-40', '40-60', '>60']\n",
    "df['age_group'] = pd.cut(df['age'], bins=age_bins, labels=age_labels, right=False)\n",
    "\n",
    "plt.figure(figsize=(8, 6))\n",
    "sns.boxplot(x='age_group', y='loyalty_score', data=df)\n",
    "plt.title('Распределение уровня лояльности по возрастным группам')\n",
    "plt.xlabel('Возрастная группа')\n",
    "plt.ylabel('Показатель лояльности')\n",
    "plt.show()"
   ]
  },
  {
   "cell_type": "markdown",
   "id": "d4c97bef-bb64-43cc-a89f-7510174492ec",
   "metadata": {},
   "source": [
    "5. Визуализируйте зависимость частоты покупок от заработка"
   ]
  },
  {
   "cell_type": "code",
   "execution_count": 65,
   "id": "a1f444af-3544-432c-8dc6-bb74d4cff272",
   "metadata": {},
   "outputs": [
    {
     "data": {
      "image/png": "[encoded data removed]",
      "text/plain": [
       "<Figure size 800x600 with 1 Axes>"
      ]
     },
     "metadata": {},
     "output_type": "display_data"
    }
   ],
   "source": [
    "plt.figure(figsize=(8, 6))\n",
    "sns.scatterplot(x='annual_income', y='purchase_frequency', data=df, color='red')\n",
    "plt.title('Зависимость частоты покупок от заработка')\n",
    "plt.xlabel('Годовой доход (USD)')\n",
    "plt.ylabel('Частот покупок')\n",
    "plt.show()"
   ]
  },
  {
   "cell_type": "markdown",
   "id": "a2ab764c-8ac1-4c5a-93ad-8168b0eb4934",
   "metadata": {},
   "source": [
    "6. Визуализируйте как зависит сумма покупок от зарплаты клиента"
   ]
  },
  {
   "cell_type": "code",
   "execution_count": 63,
   "id": "6449e306-fb6c-46d4-bcd8-b6b76fbf69d2",
   "metadata": {},
   "outputs": [
    {
     "data": {
      "image/png": "[encoded data removed]",
      "text/plain": [
       "<Figure size 800x600 with 1 Axes>"
      ]
     },
     "metadata": {},
     "output_type": "display_data"
    }
   ],
   "source": [
    "plt.figure(figsize=(8, 6))\n",
    "sns.scatterplot(x='annual_income', y='purchase_amount', data=df, color='red')\n",
    "plt.title('Зависимость суммы покупок от заработка')\n",
    "plt.xlabel('Годовой доход (USD)')\n",
    "plt.ylabel('Сумма покупок (USD)')\n",
    "plt.show()"
   ]
  },
  {
   "cell_type": "markdown",
   "id": "16afdeec-8c90-4ed1-a599-e0b1343bbf5c",
   "metadata": {},
   "source": [
    "7. Придумайте как визуализировать зависимость между частотой покупок, суммой покупок и скором лояльности *\n",
    "\n",
    "\\* Задание на доп. балл"
   ]
  },
  {
   "cell_type": "code",
   "execution_count": 12,
   "id": "e10d0cc7-a1ca-4204-a875-b1660e44618d",
   "metadata": {},
   "outputs": [],
   "source": [
    "from mpl_toolkits.mplot3d import Axes3D"
   ]
  },
  {
   "cell_type": "code",
   "execution_count": 21,
   "id": "b4daaf9f-320c-48cd-9ea3-a5aef160a166",
   "metadata": {},
   "outputs": [
    {
     "data": {
      "image/png": "[encoded data removed]",
      "text/plain": [
       "<Figure size 800x600 with 1 Axes>"
      ]
     },
     "metadata": {},
     "output_type": "display_data"
    }
   ],
   "source": [
    "fig = plt.figure(figsize=(8, 6))\n",
    "ax = fig.add_subplot(111, projection='3d')\n",
    "ax.scatter(df['purchase_frequency'], df['purchase_amount'], df['loyalty_score'], c=df['loyalty_score'], cmap='coolwarm', s=50, alpha=0.7)\n",
    "\n",
    "ax.set_title('Трехмерная зависимость между частотой покупок, суммой покупок, лояльностью')\n",
    "\n",
    "ax.set_xlabel('Частота покупок')\n",
    "ax.set_ylabel('Сумма покупок (USD)')\n",
    "ax.set_zlabel('Лояльность')\n",
    "\n",
    "ax.view_init(elev=90, azim=90)\n",
    "# ax.view_init(elev=0, azim=90)\n",
    "\n",
    "plt.show()\n",
    "\n",
    "# P.S. как оказалось можно и в 2D, цвет отлично выражает 3 ось\n",
    "# Лояльность выражается через цвет"
   ]
  },
  {
   "cell_type": "code",
   "execution_count": null,
   "id": "6603b01b-0631-453b-ad9b-2d429b3c1a53",
   "metadata": {},
   "outputs": [],
   "source": []
  }
 ],
 "metadata": {
  "kernelspec": {
   "display_name": "Python 3 (ipykernel)",
   "language": "python",
   "name": "python3"
  },
  "language_info": {
   "codemirror_mode": {
    "name": "ipython",
    "version": 3
   },
   "file_extension": ".py",
   "mimetype": "text/x-python",
   "name": "python",
   "nbconvert_exporter": "python",
   "pygments_lexer": "ipython3",
   "version": "3.13.1"
  }
 },
 "nbformat": 4,
 "nbformat_minor": 5
}
